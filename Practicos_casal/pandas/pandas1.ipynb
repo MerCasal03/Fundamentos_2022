{
 "cells": [
  {
   "cell_type": "code",
   "execution_count": 1,
   "metadata": {},
   "outputs": [],
   "source": [
    "import pandas as pd"
   ]
  },
  {
   "cell_type": "code",
   "execution_count": 2,
   "metadata": {},
   "outputs": [
    {
     "name": "stdout",
     "output_type": "stream",
     "text": [
      "Suma: \n",
      "0     4\n",
      "1    11\n",
      "2    22\n",
      "3    29\n",
      "4    40\n",
      "dtype: int64\n",
      "\n",
      "Resta: \n",
      "0    2\n",
      "1    3\n",
      "2    2\n",
      "3    1\n",
      "4    2\n",
      "dtype: int64\n",
      "Multipilicación: \n",
      "0      3\n",
      "1     28\n",
      "2    120\n",
      "3    210\n",
      "4    399\n",
      "dtype: int64\n",
      "División: \n",
      "0    3.000000\n",
      "1    1.750000\n",
      "2    1.200000\n",
      "3    1.071429\n",
      "4    1.105263\n",
      "dtype: float64\n"
     ]
    }
   ],
   "source": [
    "#1\n",
    "serie1=[3, 7, 12, 15, 21]\n",
    "serie2=[1, 4, 10, 14, 19]\n",
    "\n",
    "ds1=pd.Series(serie1)\n",
    "ds2=pd.Series(serie2)\n",
    "\n",
    "print(\"Suma: \")\n",
    "print(ds1+ds2)\n",
    "print(\"\\nResta: \")\n",
    "print(ds1-ds2)\n",
    "print(\"Multipilicación: \")\n",
    "print(ds1*ds2)\n",
    "print(\"División: \")\n",
    "print(ds1/ds2)"
   ]
  },
  {
   "cell_type": "code",
   "execution_count": 3,
   "metadata": {},
   "outputs": [
    {
     "name": "stdout",
     "output_type": "stream",
     "text": [
      "Igualdad: \n",
      "0    False\n",
      "1     True\n",
      "2    False\n",
      "3    False\n",
      "4    False\n",
      "dtype: bool\n"
     ]
    }
   ],
   "source": [
    "#2\n",
    "serie1=[3, 7, 9, 14, 25]\n",
    "serie2=[1, 7, 10, 16, 19]\n",
    "ds1=pd.Series(serie1)\n",
    "ds2=pd.Series(serie2)\n",
    "print(\"Igualdad: \")\n",
    "print(ds1==ds2)"
   ]
  },
  {
   "cell_type": "code",
   "execution_count": 4,
   "metadata": {},
   "outputs": [
    {
     "name": "stdout",
     "output_type": "stream",
     "text": [
      "a    10\n",
      "b    20\n",
      "c    30\n",
      "d    40\n",
      "e    50\n",
      "dtype: int64\n"
     ]
    }
   ],
   "source": [
    "#3\n",
    "dict1 = {\"a\": 10, \"b\": 20, \"c\": 30, \"d\": 40, \"e\": 50}\n",
    "nueva_serie=pd.Series(dict1)\n",
    "print(nueva_serie)"
   ]
  },
  {
   "cell_type": "code",
   "execution_count": 5,
   "metadata": {},
   "outputs": [
    {
     "name": "stdout",
     "output_type": "stream",
     "text": [
      "{'a': [1, 25], 'b': [16, 27]}\n",
      "    a   b\n",
      "0   1  16\n",
      "1  25  27\n"
     ]
    }
   ],
   "source": [
    "#4\n",
    "dict1 = {\"a\":[1,3,5,2], 'b':[4,2,3,3]}\n",
    "dict2={}\n",
    "\n",
    "for clave, valor in dict1.items():\n",
    "    pares=[]\n",
    "    impares=[]\n",
    "    potencia=[]\n",
    "    for i in range(len(valor)):\n",
    "        if i % 2 == 0:\n",
    "            pares.append(valor[i])\n",
    "        else:\n",
    "            impares.append(valor[i])\n",
    "    for i in range(len(pares)):\n",
    "        potencia.append(pares[i] ** impares[i])\n",
    "    dict2[clave]=potencia\n",
    "print(dict2)\n",
    "new_df=pd.DataFrame(dict2)\n",
    "print(new_df)"
   ]
  },
  {
   "cell_type": "code",
   "execution_count": 9,
   "metadata": {},
   "outputs": [
    {
     "name": "stdout",
     "output_type": "stream",
     "text": [
      "     nombre  puntaje  intentos  califica\n",
      "0  Agustina     12.5         1         1\n",
      "1     Diana      9.0         3         0\n",
      "2     Karen     16.5         2         1\n",
      "3    Julián     13.0         3         0\n",
      "4    Emilio      9.0         2         0\n",
      "5    Miguel     20.0         3         1\n",
      "6     Mateo     14.5         1         1\n",
      "7     Laura     10.0         1         0\n",
      "8     Jorge      8.0         2         0\n",
      "9     Lucas     19.0         1         1\n"
     ]
    }
   ],
   "source": [
    "#5\n",
    "datos_ejemplo = {\"nombre\": [\"Agustina\", \"Diana\", \"Karen\", \"Julián\", \"Emilio\", \"Miguel\", \"Mateo\", \"Laura\", \"Jorge\", \"Lucas\"], \"puntaje\": [12.5, 9, 16.5, 13, 9, 20, 14.5, 10, 8, 19], \"intentos\": [1, 3, 2, 3, 2, 3, 1, 1, 2, 1], \"califica\": [1, 0, 1, 0, 0, 1, 1, 0, 0, 1]}\n",
    "labels = [\"a\", \"b\", \"c\", \"d\", \"e\", \"f\", \"g\", \"h\", \"i\", \"j\"]\n",
    "dict2={}\n",
    "\n",
    "for clave, valor in datos_ejemplo.items():\n",
    "    for i in range(len(labels)):\n",
    "        dict2[clave]=labels\n",
    "    for i in range(len(valor)):\n",
    "        dict2[clave]=valor\n",
    "new_df=pd.DataFrame(dict2)\n",
    "print(new_df)"
   ]
  },
  {
   "cell_type": "code",
   "execution_count": 15,
   "metadata": {},
   "outputs": [
    {
     "name": "stdout",
     "output_type": "stream",
     "text": [
      "     nombre  puntaje  intentos  califica\n",
      "a  Agustina     12.5         1         1\n",
      "b     Diana      9.0         3         0\n",
      "c     Karen     16.5         2         1\n",
      "d    Julián     13.0         3         0\n",
      "e    Emilio      9.0         2         0\n",
      "f    Miguel     20.0         3         1\n",
      "g     Mateo     14.5         1         1\n",
      "h     Laura     10.0         1         0\n",
      "i     Jorge      8.0         2         0\n",
      "j     Lucas     19.0         1         1\n"
     ]
    }
   ],
   "source": [
    "#6\n",
    "datos_ejemplo = {\"nombre\": [\"Agustina\", \"Diana\", \"Karen\", \"Julián\", \"Emilio\", \"Miguel\", \"Mateo\", \"Laura\", \"Jorge\", \"Lucas\"], \"puntaje\": [12.5, 9, 16.5, 13, 9, 20, 14.5, 10, 8, 19], \"intentos\": [1, 3, 2, 3, 2, 3, 1, 1, 2, 1], \"califica\": [1, 0, 1, 0, 0, 1, 1, 0, 0, 1]}\n",
    "\n",
    "labels = [\"a\", \"b\", \"c\", \"d\", \"e\", \"f\", \"g\", \"h\", \"i\", \"j\"]\n",
    "dict3={}\n",
    "\n",
    "for clave, valor in datos_ejemplo.items():\n",
    "        for i in range(len(valor)):\n",
    "            dict3[clave]=valor\n",
    "new_df=pd.DataFrame(dict2)\n",
    "new_df=pd.DataFrame(datos_ejemplo, index=labels)\n",
    "print(new_df)\n"
   ]
  },
  {
   "cell_type": "code",
   "execution_count": 12,
   "metadata": {},
   "outputs": [
    {
     "name": "stdout",
     "output_type": "stream",
     "text": [
      "     nombre  puntaje  intentos  califica\n",
      "a  Agustina     12.5         1         1\n",
      "b     Diana      9.0         3         0\n",
      "c     Karen     16.5         2         1\n"
     ]
    }
   ],
   "source": [
    "#7\n",
    "datos_ejemplo = {\"nombre\": [\"Agustina\", \"Diana\", \"Karen\", \"Julián\", \"Emilio\", \"Miguel\", \"Mateo\", \"Laura\", \"Jorge\", \"Lucas\"], \"puntaje\": [12.5, 9, 16.5, 13, 9, 20, 14.5, 10, 8, 19], \"intentos\": [1, 3, 2, 3, 2, 3, 1, 1, 2, 1], \"califica\": [1, 0, 1, 0, 0, 1, 1, 0, 0, 1]}\n",
    "\n",
    "labels = [\"a\", \"b\", \"c\", \"d\", \"e\", \"f\", \"g\", \"h\", \"i\", \"j\"]\n",
    "\n",
    "df=pd.DataFrame(datos_ejemplo, index=labels)\n",
    "print(df.iloc[:3])"
   ]
  },
  {
   "cell_type": "code",
   "execution_count": 14,
   "metadata": {},
   "outputs": [
    {
     "name": "stdout",
     "output_type": "stream",
     "text": [
      "     nombre  puntaje\n",
      "a  Agustina     12.5\n",
      "b     Diana      9.0\n",
      "c     Karen     16.5\n",
      "d    Julián     13.0\n",
      "e    Emilio      9.0\n",
      "f    Miguel     20.0\n",
      "g     Mateo     14.5\n",
      "h     Laura     10.0\n",
      "i     Jorge      8.0\n",
      "j     Lucas     19.0\n"
     ]
    }
   ],
   "source": [
    "#8\n",
    "datos_ejemplo = {\"nombre\": [\"Agustina\", \"Diana\", \"Karen\", \"Julián\", \"Emilio\", \"Miguel\", \"Mateo\", \"Laura\", \"Jorge\", \"Lucas\"], \"puntaje\": [12.5, 9, 16.5, 13, 9, 20, 14.5, 10, 8, 19], \"intentos\": [1, 3, 2, 3, 2, 3, 1, 1, 2, 1], \"califica\": [1, 0, 1, 0, 0, 1, 1, 0, 0, 1]}\n",
    "\n",
    "labels = [\"a\", \"b\", \"c\", \"d\", \"e\", \"f\", \"g\", \"h\", \"i\", \"j\"]\n",
    "\n",
    "df=pd.DataFrame(datos_ejemplo, index=labels)\n",
    "print(df[[\"nombre\", \"puntaje\"]])"
   ]
  },
  {
   "cell_type": "code",
   "execution_count": 16,
   "metadata": {},
   "outputs": [
    {
     "name": "stdout",
     "output_type": "stream",
     "text": [
      "          0  1\n",
      "0  AGUSTINA  8\n",
      "1     DIANA  5\n",
      "2     KAREN  5\n",
      "3    JULIÁN  6\n",
      "4    EMILIO  6\n",
      "5    MIGUEL  6\n",
      "6     MATEO  5\n",
      "7     LAURA  5\n",
      "8     JORGE  5\n",
      "9     LUCAS  5\n"
     ]
    }
   ],
   "source": [
    "#9\n",
    "datos_ejemplo = {\"nombre\": [\"Agustina\", \"Diana\", \"Karen\", \"Julián\", \"Emilio\", \"Miguel\", \"Mateo\", \"Laura\", \"Jorge\", \"Lucas\"], \"puntaje\": [12.5, 9, 16.5, 13, 9, 20, 14.5, 10, 8, 19], \"intentos\": [1, 3, 2, 3, 2, 3, 1, 1, 2, 1], \"califica\": [1, 0, 1, 0, 0, 1, 1, 0, 0, 1]}\n",
    "\n",
    "labels = [\"a\", \"b\", \"c\", \"d\", \"e\", \"f\", \"g\", \"h\", \"i\", \"j\"]\n",
    "\n",
    "df=pd.DataFrame(datos_ejemplo, index=labels)\n",
    "new_dict={}\n",
    "\n",
    "for nombre in df[\"nombre\"]:\n",
    "    new_dict[nombre.upper()] = len(nombre)\n",
    "\n",
    "df2=pd.DataFrame(new_dict.items())\n",
    "print(df2)"
   ]
  },
  {
   "cell_type": "code",
   "execution_count": null,
   "metadata": {},
   "outputs": [],
   "source": []
  }
 ],
 "metadata": {
  "interpreter": {
   "hash": "8af6a5ad4a503603ce222d5d81632f3a8bb13ca869adae85d7c519eca850c732"
  },
  "kernelspec": {
   "display_name": "Python 3.9.13 64-bit (windows store)",
   "language": "python",
   "name": "python3"
  },
  "language_info": {
   "codemirror_mode": {
    "name": "ipython",
    "version": 3
   },
   "file_extension": ".py",
   "mimetype": "text/x-python",
   "name": "python",
   "nbconvert_exporter": "python",
   "pygments_lexer": "ipython3",
   "version": "3.9.13"
  },
  "orig_nbformat": 4
 },
 "nbformat": 4,
 "nbformat_minor": 2
}
